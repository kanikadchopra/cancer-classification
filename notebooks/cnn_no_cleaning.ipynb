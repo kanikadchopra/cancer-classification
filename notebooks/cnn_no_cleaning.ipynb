{
 "cells": [
  {
   "cell_type": "code",
   "execution_count": 1,
   "metadata": {},
   "outputs": [],
   "source": [
    "import pandas as pd \n",
    "import numpy as np\n",
    "import os\n",
    "from PIL import Image\n",
    "\n",
    "from keras.preprocessing.image import load_img\n",
    "from keras.preprocessing.image import array_to_img\n",
    "from keras.preprocessing.image import img_to_array\n",
    "\n",
    "\n",
    "import tensorflow as tf\n",
    "from tensorflow.keras.models import Sequential\n",
    "from tensorflow.keras.layers import Dense, Dropout, Activation, Flatten, Conv2D, MaxPooling2D, BatchNormalization\n",
    "from keras import * \n",
    "\n",
    "from sklearn.preprocessing import StandardScaler\n",
    "from sklearn.model_selection import train_test_split\n",
    "\n",
    "import torchvision\n",
    "import torchvision.transforms as transforms"
   ]
  },
  {
   "cell_type": "markdown",
   "metadata": {},
   "source": [
    "# Bronchus and Lung Cancer Classification\n",
    "\n",
    "By: Kanika Chopra"
   ]
  },
  {
   "cell_type": "markdown",
   "metadata": {},
   "source": [
    "## Import Data"
   ]
  },
  {
   "cell_type": "markdown",
   "metadata": {},
   "source": [
    "There are three different paths for each of the cancer classes. Let's create a DataFrame that stores the filepaths and their class for the training and testing data respectively.\n",
    "\n",
    "In this case, LUAD is class 0, LUSC is class 1 and MESO is class 2."
   ]
  },
  {
   "cell_type": "code",
   "execution_count": 130,
   "metadata": {},
   "outputs": [],
   "source": [
    "def get_img_fps(fp):\n",
    "    fps = [] \n",
    "    for folder in os.listdir(fp):\n",
    "        for filepath in os.listdir(fp + folder):\n",
    "            fps.append(fp + folder + '/' + filepath)\n",
    "    \n",
    "    return fps"
   ]
  },
  {
   "cell_type": "code",
   "execution_count": 131,
   "metadata": {},
   "outputs": [],
   "source": [
    "def get_data(fp):\n",
    "    luad = get_img_fps(fp + '/LUAD/')\n",
    "    lusc = get_img_fps(fp + '/LUSC/')\n",
    "    meso = get_img_fps(fp + '/MESO/')\n",
    "    \n",
    "    df = pd.DataFrame(luad)\n",
    "    df = df.append(lusc, ignore_index = True)\n",
    "    df = df.append(meso, ignore_index = True)\n",
    "    df.columns = ['filepath']\n",
    "    \n",
    "    labels = np.concatenate([np.zeros(len(luad)), np.ones(len(lusc)), np.full(len(meso), 2)])\n",
    "    \n",
    "    df['label'] = labels.astype(int)\n",
    "    df.drop(0, inplace=True)\n",
    "    \n",
    "    return df  "
   ]
  },
  {
   "cell_type": "markdown",
   "metadata": {},
   "source": [
    "#### Training Data\n",
    "\n",
    "First, we'll get the training data."
   ]
  },
  {
   "cell_type": "code",
   "execution_count": 132,
   "metadata": {},
   "outputs": [],
   "source": [
    "train_df = get_data('data/train')"
   ]
  },
  {
   "cell_type": "code",
   "execution_count": 133,
   "metadata": {},
   "outputs": [
    {
     "data": {
      "text/html": [
       "<div>\n",
       "<style scoped>\n",
       "    .dataframe tbody tr th:only-of-type {\n",
       "        vertical-align: middle;\n",
       "    }\n",
       "\n",
       "    .dataframe tbody tr th {\n",
       "        vertical-align: top;\n",
       "    }\n",
       "\n",
       "    .dataframe thead th {\n",
       "        text-align: right;\n",
       "    }\n",
       "</style>\n",
       "<table border=\"1\" class=\"dataframe\">\n",
       "  <thead>\n",
       "    <tr style=\"text-align: right;\">\n",
       "      <th></th>\n",
       "      <th>filepath</th>\n",
       "      <th>label</th>\n",
       "    </tr>\n",
       "  </thead>\n",
       "  <tbody>\n",
       "    <tr>\n",
       "      <th>1</th>\n",
       "      <td>data/train/LUAD/TCGA-49-4494-01Z-00-DX2.cac5ed...</td>\n",
       "      <td>0</td>\n",
       "    </tr>\n",
       "    <tr>\n",
       "      <th>2</th>\n",
       "      <td>data/train/LUAD/TCGA-49-4494-01Z-00-DX2.cac5ed...</td>\n",
       "      <td>0</td>\n",
       "    </tr>\n",
       "    <tr>\n",
       "      <th>3</th>\n",
       "      <td>data/train/LUAD/TCGA-49-4494-01Z-00-DX2.cac5ed...</td>\n",
       "      <td>0</td>\n",
       "    </tr>\n",
       "    <tr>\n",
       "      <th>4</th>\n",
       "      <td>data/train/LUAD/TCGA-49-4494-01Z-00-DX2.cac5ed...</td>\n",
       "      <td>0</td>\n",
       "    </tr>\n",
       "    <tr>\n",
       "      <th>5</th>\n",
       "      <td>data/train/LUAD/TCGA-49-4494-01Z-00-DX2.cac5ed...</td>\n",
       "      <td>0</td>\n",
       "    </tr>\n",
       "  </tbody>\n",
       "</table>\n",
       "</div>"
      ],
      "text/plain": [
       "                                            filepath  label\n",
       "1  data/train/LUAD/TCGA-49-4494-01Z-00-DX2.cac5ed...      0\n",
       "2  data/train/LUAD/TCGA-49-4494-01Z-00-DX2.cac5ed...      0\n",
       "3  data/train/LUAD/TCGA-49-4494-01Z-00-DX2.cac5ed...      0\n",
       "4  data/train/LUAD/TCGA-49-4494-01Z-00-DX2.cac5ed...      0\n",
       "5  data/train/LUAD/TCGA-49-4494-01Z-00-DX2.cac5ed...      0"
      ]
     },
     "execution_count": 133,
     "metadata": {},
     "output_type": "execute_result"
    }
   ],
   "source": [
    "train_df.head()"
   ]
  },
  {
   "cell_type": "code",
   "execution_count": 136,
   "metadata": {},
   "outputs": [
    {
     "data": {
      "text/plain": [
       "filepath    object\n",
       "label        int64\n",
       "dtype: object"
      ]
     },
     "execution_count": 136,
     "metadata": {},
     "output_type": "execute_result"
    }
   ],
   "source": [
    "train_df.dtypes"
   ]
  },
  {
   "cell_type": "code",
   "execution_count": 137,
   "metadata": {},
   "outputs": [
    {
     "data": {
      "text/plain": [
       "1    16443\n",
       "0     5557\n",
       "2      403\n",
       "Name: label, dtype: int64"
      ]
     },
     "execution_count": 137,
     "metadata": {},
     "output_type": "execute_result"
    }
   ],
   "source": [
    "train_df.label.value_counts()"
   ]
  },
  {
   "cell_type": "code",
   "execution_count": 138,
   "metadata": {},
   "outputs": [
    {
     "data": {
      "text/plain": [
       "1    0.733964\n",
       "0    0.248047\n",
       "2    0.017989\n",
       "Name: label, dtype: float64"
      ]
     },
     "execution_count": 138,
     "metadata": {},
     "output_type": "execute_result"
    }
   ],
   "source": [
    "train_df.label.value_counts(normalize=True)"
   ]
  },
  {
   "cell_type": "markdown",
   "metadata": {},
   "source": [
    "We can see that with our training data we have very imbalanced dataset with more data for the LUSC type of cancer. Hence, this will require some preprocessing. Next, let's get our testing dataset as well."
   ]
  },
  {
   "cell_type": "markdown",
   "metadata": {},
   "source": [
    "#### Testing Data"
   ]
  },
  {
   "cell_type": "code",
   "execution_count": 139,
   "metadata": {},
   "outputs": [],
   "source": [
    "test_df = get_data('data/dev')"
   ]
  },
  {
   "cell_type": "code",
   "execution_count": 140,
   "metadata": {},
   "outputs": [
    {
     "data": {
      "text/html": [
       "<div>\n",
       "<style scoped>\n",
       "    .dataframe tbody tr th:only-of-type {\n",
       "        vertical-align: middle;\n",
       "    }\n",
       "\n",
       "    .dataframe tbody tr th {\n",
       "        vertical-align: top;\n",
       "    }\n",
       "\n",
       "    .dataframe thead th {\n",
       "        text-align: right;\n",
       "    }\n",
       "</style>\n",
       "<table border=\"1\" class=\"dataframe\">\n",
       "  <thead>\n",
       "    <tr style=\"text-align: right;\">\n",
       "      <th></th>\n",
       "      <th>filepath</th>\n",
       "      <th>label</th>\n",
       "    </tr>\n",
       "  </thead>\n",
       "  <tbody>\n",
       "    <tr>\n",
       "      <th>1</th>\n",
       "      <td>data/dev/LUAD/TCGA-86-7955-01Z-00-DX1.ef4f4d94...</td>\n",
       "      <td>0</td>\n",
       "    </tr>\n",
       "    <tr>\n",
       "      <th>2</th>\n",
       "      <td>data/dev/LUAD/TCGA-86-7955-01Z-00-DX1.ef4f4d94...</td>\n",
       "      <td>0</td>\n",
       "    </tr>\n",
       "    <tr>\n",
       "      <th>3</th>\n",
       "      <td>data/dev/LUAD/TCGA-86-7955-01Z-00-DX1.ef4f4d94...</td>\n",
       "      <td>0</td>\n",
       "    </tr>\n",
       "    <tr>\n",
       "      <th>4</th>\n",
       "      <td>data/dev/LUAD/TCGA-86-7955-01Z-00-DX1.ef4f4d94...</td>\n",
       "      <td>0</td>\n",
       "    </tr>\n",
       "    <tr>\n",
       "      <th>5</th>\n",
       "      <td>data/dev/LUAD/TCGA-86-7955-01Z-00-DX1.ef4f4d94...</td>\n",
       "      <td>0</td>\n",
       "    </tr>\n",
       "  </tbody>\n",
       "</table>\n",
       "</div>"
      ],
      "text/plain": [
       "                                            filepath  label\n",
       "1  data/dev/LUAD/TCGA-86-7955-01Z-00-DX1.ef4f4d94...      0\n",
       "2  data/dev/LUAD/TCGA-86-7955-01Z-00-DX1.ef4f4d94...      0\n",
       "3  data/dev/LUAD/TCGA-86-7955-01Z-00-DX1.ef4f4d94...      0\n",
       "4  data/dev/LUAD/TCGA-86-7955-01Z-00-DX1.ef4f4d94...      0\n",
       "5  data/dev/LUAD/TCGA-86-7955-01Z-00-DX1.ef4f4d94...      0"
      ]
     },
     "execution_count": 140,
     "metadata": {},
     "output_type": "execute_result"
    }
   ],
   "source": [
    "test_df.head()"
   ]
  },
  {
   "cell_type": "code",
   "execution_count": 141,
   "metadata": {},
   "outputs": [
    {
     "data": {
      "text/plain": [
       "1    4492\n",
       "0    3213\n",
       "2     495\n",
       "Name: label, dtype: int64"
      ]
     },
     "execution_count": 141,
     "metadata": {},
     "output_type": "execute_result"
    }
   ],
   "source": [
    "test_df.label.value_counts()"
   ]
  },
  {
   "cell_type": "code",
   "execution_count": 142,
   "metadata": {},
   "outputs": [
    {
     "data": {
      "text/plain": [
       "1    0.547805\n",
       "0    0.391829\n",
       "2    0.060366\n",
       "Name: label, dtype: float64"
      ]
     },
     "execution_count": 142,
     "metadata": {},
     "output_type": "execute_result"
    }
   ],
   "source": [
    "test_df.label.value_counts(normalize=True)"
   ]
  },
  {
   "cell_type": "markdown",
   "metadata": {},
   "source": [
    "We can see that our testing set also has imbalanced data; however, the dataset is not imbalanced in the same way as our training dataset."
   ]
  },
  {
   "cell_type": "markdown",
   "metadata": {},
   "source": [
    "---"
   ]
  },
  {
   "cell_type": "code",
   "execution_count": 145,
   "metadata": {},
   "outputs": [],
   "source": [
    "def get_images(df):\n",
    "    n = df.shape[0]\n",
    "    lst = []\n",
    "    raw_img = []\n",
    "    for i in range(n):\n",
    "        filepath = df.filepath.iloc[i]\n",
    "        img = load_img(filepath)\n",
    "        raw_img.append(img)\n",
    "        img_array = img_to_array(img.resize((32, 32)))\n",
    "        \n",
    "\n",
    "        lst.append(img_array)\n",
    "        \n",
    "    \n",
    "    return np.asarray(lst)"
   ]
  },
  {
   "cell_type": "code",
   "execution_count": 144,
   "metadata": {},
   "outputs": [],
   "source": [
    "X_train = get_images(train_df)\n",
    "y_train = np.asarray(train_df.label)"
   ]
  },
  {
   "cell_type": "code",
   "execution_count": 147,
   "metadata": {},
   "outputs": [
    {
     "data": {
      "text/plain": [
       "(22403, 32, 32, 3)"
      ]
     },
     "execution_count": 147,
     "metadata": {},
     "output_type": "execute_result"
    }
   ],
   "source": [
    "X_train.shape, y_train.shape"
   ]
  },
  {
   "cell_type": "code",
   "execution_count": 146,
   "metadata": {},
   "outputs": [],
   "source": [
    "X_test = get_images(test_df)\n",
    "y_test = np.asarray(test_df.label)"
   ]
  },
  {
   "cell_type": "code",
   "execution_count": 148,
   "metadata": {},
   "outputs": [
    {
     "data": {
      "text/plain": [
       "(8200, 32, 32, 3)"
      ]
     },
     "execution_count": 148,
     "metadata": {},
     "output_type": "execute_result"
    }
   ],
   "source": [
    "X_test.shape, y_test.shape"
   ]
  },
  {
   "cell_type": "markdown",
   "metadata": {},
   "source": [
    "---\n",
    "## Data Preprocessing"
   ]
  },
  {
   "cell_type": "markdown",
   "metadata": {},
   "source": [
    "---\n",
    "## Building the Model"
   ]
  },
  {
   "cell_type": "markdown",
   "metadata": {},
   "source": [
    "Learning rate of 1e-3 did not work well"
   ]
  },
  {
   "cell_type": "code",
   "execution_count": 162,
   "metadata": {},
   "outputs": [
    {
     "name": "stdout",
     "output_type": "stream",
     "text": [
      "Epoch 1/12\n",
      "57/57 [==============================] - 9s 150ms/step - loss: 0.6813 - accuracy: 0.5585\n",
      "Epoch 2/12\n",
      "57/57 [==============================] - 9s 153ms/step - loss: 0.5481 - accuracy: 0.7415\n",
      "Epoch 3/12\n",
      "57/57 [==============================] - 9s 152ms/step - loss: 0.4744 - accuracy: 0.7736\n",
      "Epoch 4/12\n",
      "57/57 [==============================] - 9s 156ms/step - loss: 0.4263 - accuracy: 0.7846\n",
      "Epoch 5/12\n",
      "57/57 [==============================] - 9s 151ms/step - loss: 0.4093 - accuracy: 0.7909\n",
      "Epoch 6/12\n",
      "57/57 [==============================] - 8s 147ms/step - loss: 0.3948 - accuracy: 0.7974\n",
      "Epoch 7/12\n",
      "57/57 [==============================] - 9s 158ms/step - loss: 0.3800 - accuracy: 0.8019\n",
      "Epoch 8/12\n",
      "57/57 [==============================] - 9s 150ms/step - loss: 0.3981 - accuracy: 0.7939\n",
      "Epoch 9/12\n",
      "57/57 [==============================] - ETA: 0s - loss: 0.3752 - accuracy: 0.80 - 9s 151ms/step - loss: 0.3751 - accuracy: 0.8028\n",
      "Epoch 10/12\n",
      "57/57 [==============================] - 9s 152ms/step - loss: 0.3770 - accuracy: 0.8015\n",
      "Epoch 11/12\n",
      "57/57 [==============================] - 9s 154ms/step - loss: 0.3672 - accuracy: 0.8060\n",
      "Epoch 12/12\n",
      "57/57 [==============================] - 9s 152ms/step - loss: 0.3616 - accuracy: 0.8094\n"
     ]
    },
    {
     "data": {
      "text/plain": [
       "<keras.callbacks.History at 0x7ff3ef0ac5e0>"
      ]
     },
     "execution_count": 162,
     "metadata": {},
     "output_type": "execute_result"
    }
   ],
   "source": [
    "model = Sequential()\n",
    "model.add(Conv2D(32,(2, 2), activation = 'relu', input_shape=X_train.shape[1:]))\n",
    "model.add(MaxPooling2D(pool_size=(2,2)))\n",
    "\n",
    "model.add(Conv2D(64,(3,3), activation='relu'))\n",
    "model.add(MaxPooling2D(pool_size=(2,2)))\n",
    "\n",
    "model.add(Conv2D(128,(3,3), activation='relu'))\n",
    "\n",
    "model.add(Conv2D(256,(2,2), activation='relu'))\n",
    "model.add(MaxPooling2D(pool_size=(2,2)))\n",
    "\n",
    "model.add(Dropout(0.5))\n",
    "model.add(BatchNormalization())\n",
    "\n",
    "model.add(Flatten())\n",
    "model.add(Dense(64, activation='relu'))\n",
    "\n",
    "model.add(Flatten())\n",
    "model.add(Dense(16, activation='relu'))\n",
    "\n",
    "model.add(Dense(1))\n",
    "model.add(Activation('sigmoid'))\n",
    "\n",
    "model.compile(loss=\"binary_crossentropy\",\n",
    "              optimizer=tf.keras.optimizers.Adam(learning_rate=1e-4),\n",
    "              metrics=['accuracy'])\n",
    "\n",
    "model.fit(X_train,y_train,batch_size=400,epochs=12)"
   ]
  },
  {
   "cell_type": "code",
   "execution_count": 163,
   "metadata": {},
   "outputs": [],
   "source": [
    "y_pred = model.predict(X_test)"
   ]
  },
  {
   "cell_type": "code",
   "execution_count": 175,
   "metadata": {},
   "outputs": [],
   "source": [
    "y_pred[y_pred < 0.5] = 0\n",
    "y_pred[y_pred >= 0.5] = 1 "
   ]
  },
  {
   "cell_type": "code",
   "execution_count": 176,
   "metadata": {
    "scrolled": false
   },
   "outputs": [
    {
     "data": {
      "text/plain": [
       "0.6169512195121951"
      ]
     },
     "execution_count": 176,
     "metadata": {},
     "output_type": "execute_result"
    }
   ],
   "source": [
    "sum(y_pred.flatten() == y_test)/len(y_test)"
   ]
  },
  {
   "cell_type": "code",
   "execution_count": 177,
   "metadata": {},
   "outputs": [],
   "source": [
    "model.save('no_cleaning.h5')"
   ]
  },
  {
   "cell_type": "markdown",
   "metadata": {},
   "source": [
    "61% accuracy with test set and 80% accuracy with training set with no preprocessing. "
   ]
  }
 ],
 "metadata": {
  "kernelspec": {
   "display_name": "stat441",
   "language": "python",
   "name": "stat441"
  },
  "language_info": {
   "codemirror_mode": {
    "name": "ipython",
    "version": 3
   },
   "file_extension": ".py",
   "mimetype": "text/x-python",
   "name": "python",
   "nbconvert_exporter": "python",
   "pygments_lexer": "ipython3",
   "version": "3.8.3rc1"
  }
 },
 "nbformat": 4,
 "nbformat_minor": 2
}
